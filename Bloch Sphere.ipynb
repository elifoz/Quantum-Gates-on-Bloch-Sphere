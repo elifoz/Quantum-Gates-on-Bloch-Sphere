{
 "cells": [
  {
   "cell_type": "code",
   "execution_count": 1,
   "id": "120f4858-072f-4c5e-899a-a485f870c870",
   "metadata": {},
   "outputs": [
    {
     "name": "stdout",
     "output_type": "stream",
     "text": [
      "Defaulting to user installation because normal site-packages is not writeable\n",
      "Requirement already satisfied: bloch_sphere in /root/miniconda3/lib/python3.8/site-packages (0.4.0)\n",
      "Requirement already satisfied: latextools in /root/miniconda3/lib/python3.8/site-packages (from bloch_sphere) (0.4.4)\n",
      "Requirement already satisfied: numpy in /home/elif/.local/lib/python3.8/site-packages (from bloch_sphere) (1.20.1)\n",
      "Requirement already satisfied: hyperbolic in /root/miniconda3/lib/python3.8/site-packages (from bloch_sphere) (1.3.2)\n",
      "Requirement already satisfied: drawSvg in /root/miniconda3/lib/python3.8/site-packages (from bloch_sphere) (1.8.2)\n",
      "Requirement already satisfied: cairoSVG in /root/miniconda3/lib/python3.8/site-packages (from drawSvg->bloch_sphere) (2.5.2)\n",
      "Requirement already satisfied: imageio in /root/miniconda3/lib/python3.8/site-packages (from drawSvg->bloch_sphere) (2.9.0)\n",
      "Requirement already satisfied: fs in /root/miniconda3/lib/python3.8/site-packages (from latextools->bloch_sphere) (2.4.13)\n",
      "Requirement already satisfied: tinycss2 in /root/miniconda3/lib/python3.8/site-packages (from cairoSVG->drawSvg->bloch_sphere) (1.1.0)\n",
      "Requirement already satisfied: pillow in /root/miniconda3/lib/python3.8/site-packages (from cairoSVG->drawSvg->bloch_sphere) (8.2.0)\n",
      "Requirement already satisfied: cssselect2 in /root/miniconda3/lib/python3.8/site-packages (from cairoSVG->drawSvg->bloch_sphere) (0.4.1)\n",
      "Requirement already satisfied: defusedxml in /root/miniconda3/lib/python3.8/site-packages (from cairoSVG->drawSvg->bloch_sphere) (0.7.1)\n",
      "Requirement already satisfied: cairocffi in /root/miniconda3/lib/python3.8/site-packages (from cairoSVG->drawSvg->bloch_sphere) (1.2.0)\n",
      "Requirement already satisfied: six~=1.10 in /root/miniconda3/lib/python3.8/site-packages (from fs->latextools->bloch_sphere) (1.16.0)\n",
      "Requirement already satisfied: setuptools in /root/miniconda3/lib/python3.8/site-packages (from fs->latextools->bloch_sphere) (50.3.1.post20201107)\n",
      "Requirement already satisfied: appdirs~=1.4.3 in /root/miniconda3/lib/python3.8/site-packages (from fs->latextools->bloch_sphere) (1.4.4)\n",
      "Requirement already satisfied: pytz in /root/miniconda3/lib/python3.8/site-packages (from fs->latextools->bloch_sphere) (2021.1)\n",
      "Requirement already satisfied: cffi>=1.1.0 in /root/miniconda3/lib/python3.8/site-packages (from cairocffi->cairoSVG->drawSvg->bloch_sphere) (1.14.3)\n",
      "Requirement already satisfied: webencodings in /root/miniconda3/lib/python3.8/site-packages (from cssselect2->cairoSVG->drawSvg->bloch_sphere) (0.5.1)\n",
      "Requirement already satisfied: pycparser in /root/miniconda3/lib/python3.8/site-packages (from cffi>=1.1.0->cairocffi->cairoSVG->drawSvg->bloch_sphere) (2.20)\n",
      "\u001b[33mWARNING: There was an error checking the latest version of pip.\u001b[0m\u001b[33m\n",
      "\u001b[0mNote: you may need to restart the kernel to use updated packages.\n"
     ]
    }
   ],
   "source": [
    "pip install bloch_sphere\n"
   ]
  },
  {
   "cell_type": "raw",
   "id": "23d77d92-df3f-4df8-a2a1-53c9122544ea",
   "metadata": {},
   "source": []
  },
  {
   "cell_type": "code",
   "execution_count": null,
   "id": "ecb9a75c-0c95-48a0-893d-c9d9145fb415",
   "metadata": {},
   "outputs": [],
   "source": []
  },
  {
   "cell_type": "code",
   "execution_count": 2,
   "id": "7e4ed98c-07f0-4066-b6c7-22c52e515e7c",
   "metadata": {},
   "outputs": [],
   "source": [
    "from bloch_sphere.animate_bloch import do_or_save_animation, AnimState"
   ]
  },
  {
   "cell_type": "code",
   "execution_count": 4,
   "id": "e2bb14a1-07d8-4cd7-af4a-d1cc83cc1322",
   "metadata": {},
   "outputs": [
    {
     "data": {
      "image/svg+xml": [
       "<?xml version=\"1.0\" encoding=\"UTF-8\"?>\n",
       "<svg xmlns=\"http://www.w3.org/2000/svg\" xmlns:xlink=\"http://www.w3.org/1999/xlink\"\n",
       "     width=\"624\" height=\"374.4\" viewBox=\"-2.5 -1.5 5 3\">\n",
       "<defs>\n",
       "<marker markerWidth=\"4.0\" markerHeight=\"4.0\" viewBox=\"-0.1 -0.5 1.0 1.0\" orient=\"auto\" id=\"299-d0\">\n",
       "<path d=\"M-0.1,0.5 L-0.1,-0.5 L0.9,0 Z\" fill=\"black\" />\n",
       "</marker>\n",
       "<marker markerWidth=\"4.0\" markerHeight=\"4.0\" viewBox=\"-0.1 -0.5 1.0 1.0\" orient=\"auto\" id=\"299-d1\">\n",
       "<path d=\"M-0.1,0.5 L-0.1,-0.5 L0.9,0 Z\" fill=\"black\" />\n",
       "</marker>\n",
       "<marker markerWidth=\"3.0\" markerHeight=\"3.0\" viewBox=\"-0.1 -0.5 1.0 1.0\" orient=\"auto\" id=\"299-d2\">\n",
       "<path d=\"M-0.1,0.5 L-0.1,-0.5 L0.9,0 Z\" fill=\"#e00\" />\n",
       "</marker>\n",
       "</defs>\n",
       "<rect x=\"-100\" y=\"-100\" width=\"200\" height=\"200\" fill=\"white\" />\n",
       "<g>\n",
       "<path d=\"M0.17928324965978443,-0.3445657769226463 L0.21167142607829245,-0.4068128479230234\" stroke=\"black\" stroke-width=\"0.02\" />\n",
       "<path d=\"M-0.9636237383738694,-0.0734267636449945 L-1.1523247149222748,-0.08780551071486342\" stroke=\"black\" stroke-width=\"0.02\" />\n",
       "<path d=\"M0.0,0.8903223669854131 L0.0,1.0606816217906454\" stroke=\"black\" stroke-width=\"0.02\" />\n",
       "<text x=\"-0.6\" y=\"-1.2\" font-size=\"0.4\" fill=\"#c00\" text-anchor=\"end\" opacity=\"0\"><tspan x=\"-0.6\" dy=\"0.4em\">S Gate:</tspan></text>\n",
       "<path d=\"M7.28583859910259e-17,0.8903223669854131 A1.0047256871109849,0.18212709565069388,-85.64256317530416,0,0,0.17928324965978448,-0.3445657769226463 L0.1668623408500431,-0.32069394225747 A0.9287363304607109,0.16823745394807896,-85.64256317530416,0,1,-2.7755575615628914e-17,0.8257977873852902 Z\" fill=\"#e1e144\" stroke=\"none\" stroke-width=\"0.002\" opacity=\"1\" />\n",
       "<path d=\"M0.17928324965978454,-0.3445657769226463 A1.0041658591922331,0.3858784841887365,-0.0,0,0,-0.9636237383738696,-0.07342676364499448 L-0.8925206711827088,-0.06800881066067938 A0.9282941066083565,0.3565078642288141,180.0,0,1,0.16686234085004323,-0.3206939422574705 Z\" fill=\"#56e\" stroke=\"none\" stroke-width=\"0.002\" opacity=\"1\" />\n",
       "<path d=\"M0.9984897278368868,0.07608350264549904 A1.0041658591922331,0.3858784841887365,-0.0,0,0,0.17928324965978454,-0.3445657769226463 L0.16686234085004323,-0.3206939422574705 A0.9282941066083565,0.3565078642288141,180.0,0,1,0.922351523067321,0.07028187931126768 Z\" fill=\"#56e\" stroke=\"none\" stroke-width=\"0.002\" opacity=\"1\" />\n",
       "<path d=\"M-0.9636237383738696,-0.07342676364499413 A1.0008693185718753,0.9076680888751324,27.488702880068224,0,0,-2.5326962749261384e-16,0.8903223669854132 L-1.3010426069826053e-16,0.8257977873852915 A0.9256878953610954,0.8393821924873945,27.48870288006816,0,1,-0.8925206711827088,-0.06800881066067976 Z\" fill=\"#9e2\" stroke=\"none\" stroke-width=\"0.002\" opacity=\"1\" />\n",
       "<path d=\"M0.1792832496597845,-0.34456577692264645 A1.0047256871109849,0.18212709565069388,-85.64256317530416,0,0,-6.938893903907228e-18,-0.960065384067388 L4.163336342344337e-17,-0.8854594023054738 A0.9287363304607109,0.16823745394807896,-85.64256317530416,0,1,0.16686234085004303,-0.3206939422574701 Z\" fill=\"#e1e144\" stroke=\"none\" stroke-width=\"0.002\" opacity=\"1\" />\n",
       "<path d=\"M-4.85722573273506e-17,0.8903223669854132 A1.0008693185718753,0.9076680888751324,27.488702880068224,0,0,0.9984897278368864,0.07608350264549901 L0.9223515230673208,0.0702818793112677 A0.9256878953610954,0.8393821924873945,27.48870288006816,0,1,6.071532165918825e-17,0.8257977873852915 Z\" fill=\"#9e2\" stroke=\"none\" stroke-width=\"0.002\" opacity=\"1\" />\n",
       "<g opacity=\"1\">\n",
       "<path d=\"M2.0990154059319366e-16,0.7174698838543971 A0.8024133852073614,0.14520644496195373,-85.64256317530418,0,0,0.1458159575930822,-0.28024474573683544 L0.12866064810464325,-0.24727383209348275 A0.7016150651342913,0.12687595433363286,-85.64256317530418,0,1,1.97758476261356e-16,0.6300915147794307 Z\" fill=\"#56e\" stroke=\"none\" stroke-width=\"0.002\" opacity=\"1\" />\n",
       "<path d=\"M0.14581595759308222,-0.28024474573683555 A0.8021281271028514,0.3077777102912171,-0.0,0,0,-0.7736003044242826,-0.058947247194754415 L-0.6780883138919375,-0.05166936883331385 A0.7014243457912692,0.2689696588326859,-0.0,0,1,0.12866064810464325,-0.24727383209348286 Z\" fill=\"#9e2\" stroke=\"none\" stroke-width=\"0.002\" opacity=\"1\" />\n",
       "<path d=\"M0.7959120006366369,0.060647366835920584 A0.8021281271028514,0.3077777102912171,-0.0,0,0,0.14581595759308222,-0.28024474573683555 L0.12866064810464325,-0.24727383209348286 A0.7014243457912692,0.2689696588326859,-0.0,0,1,0.6951698970914194,0.05297096127268996 Z\" fill=\"#9e2\" stroke=\"none\" stroke-width=\"0.002\" opacity=\"1\" />\n",
       "<path d=\"M-0.7736003044242827,-0.05894724719475457 A0.8004448822172254,0.7256800637207569,27.48870288006831,0,0,-1.5265566588595902e-16,0.7174698838543965 L1.3183898417423734e-16,0.63009151477943 A0.7002979780634196,0.6348045332320424,27.48870288006821,0,1,-0.6780883138919376,-0.05166936883331413 Z\" fill=\"#e1e144\" stroke=\"none\" stroke-width=\"0.002\" opacity=\"1\" />\n",
       "<path d=\"M0.1458159575930822,-0.2802447457368357 A0.8024133852073614,0.14520644496195373,-85.64256317530418,0,0,-3.0878077872387166e-16,-0.7620825664698907 L-2.5500435096859064e-16,-0.6642408163403463 A0.7016150651342913,0.12687595433363286,-85.64256317530418,0,1,0.12866064810464328,-0.24727383209348305 Z\" fill=\"#56e\" stroke=\"none\" stroke-width=\"0.002\" opacity=\"1\" />\n",
       "<path d=\"M3.400058012914542e-16,0.7174698838543965 A0.8004448822172254,0.7256800637207569,27.48870288006831,0,0,0.7959120006366369,0.06064736683592058 L0.6951698970914199,0.05297096127268998 A0.7002979780634196,0.6348045332320424,27.48870288006821,0,1,2.7582103268031233e-16,0.63009151477943 Z\" fill=\"#e1e144\" stroke=\"none\" stroke-width=\"0.002\" opacity=\"1\" />\n",
       "<path d=\"M1.8846559702427601e-16,0.5861612333711932 L-1.823541908779643e-16,-0.5671536828106899\" stroke=\"black\" stroke-width=\"0.015\" marker-end=\"url(#299-d0)\" />\n",
       "<path d=\"M0.11997446537963562,-0.2305797945589453 L-0.12379857710344651,0.23792938259717167\" stroke=\"black\" stroke-width=\"0.015\" marker-end=\"url(#299-d0)\" />\n",
       "<path d=\"M-0.6302064812723606,-0.048020841024545076 L0.5947896814720187,0.04532213105669988\" stroke=\"black\" stroke-width=\"0.015\" marker-end=\"url(#299-d0)\" />\n",
       "<path d=\"M-2.255140518769849e-16,-0.7620825664698898 A0.8004448822172254,0.7256800637207569,27.48870288006831,0,0,-0.7736003044242827,-0.05894724719475457 L-0.6780883138919376,-0.05166936883331413 A0.7002979780634196,0.6348045332320424,27.48870288006821,0,1,-1.0061396160665481e-16,-0.6642408163403459 Z\" fill=\"#e1e144\" stroke=\"none\" stroke-width=\"0.002\" opacity=\"1\" />\n",
       "<path d=\"M-0.16823742891072202,0.3233367339675929 A0.8024133852073614,0.14520644496195373,-85.64256317530418,0,0,2.0990154059319366e-16,0.7174698838543971 L1.97758476261356e-16,0.6300915147794307 A0.7016150651342913,0.12687595433363286,-85.64256317530418,0,1,-0.14580649923760788,0.2802265676548977 Z\" fill=\"#56e\" stroke=\"none\" stroke-width=\"0.002\" opacity=\"1\" />\n",
       "<path d=\"M0.7959120006366369,0.06064736683592058 A0.8004448822172254,0.7256800637207569,27.48870288006831,0,0,-2.255140518769849e-16,-0.7620825664698898 L-1.0061396160665481e-16,-0.6642408163403459 A0.7002979780634196,0.6348045332320424,27.48870288006821,0,1,0.6951698970914199,0.05297096127268998 Z\" fill=\"#909022\" stroke=\"none\" stroke-width=\"0.002\" opacity=\"1\" />\n",
       "<path d=\"M-0.7736003044242826,-0.058947247194754415 A0.8021281271028514,0.3077777102912171,-0.0,0,0,-0.16823742891072205,0.32333673396759316 L-0.1458064992376078,0.2802265676548976 A0.7014243457912692,0.2689696588326859,-0.0,0,1,-0.6780883138919375,-0.05166936883331385 Z\" fill=\"#9e2\" stroke=\"none\" stroke-width=\"0.002\" opacity=\"1\" />\n",
       "<path d=\"M-0.16823742891072205,0.32333673396759316 A0.8021281271028514,0.3077777102912171,-0.0,0,0,0.7959120006366369,0.060647366835920584 L0.6951698970914194,0.05297096127268996 A0.7014243457912692,0.2689696588326859,-0.0,0,1,-0.1458064992376078,0.2802265676548976 Z\" fill=\"#6a1\" stroke=\"none\" stroke-width=\"0.002\" opacity=\"1\" />\n",
       "<path d=\"M-3.0878077872387166e-16,-0.7620825664698907 A0.8024133852073614,0.14520644496195373,-85.64256317530418,0,0,-0.16823742891072202,0.3233367339675929 L-0.14580649923760788,0.2802265676548977 A0.7016150651342913,0.12687595433363286,-85.64256317530418,0,1,-2.5500435096859064e-16,-0.6642408163403463 Z\" fill=\"#239\" stroke=\"none\" stroke-width=\"0.002\" opacity=\"1\" />\n",
       "</g>\n",
       "<path d=\"M-3.122502256758253e-17,-0.9600653840673881 A1.0008693185718753,0.9076680888751324,27.488702880068224,0,0,-0.9636237383738696,-0.07342676364499413 L-0.8925206711827088,-0.06800881066067976 A0.9256878953610954,0.8393821924873945,27.48870288006816,0,1,3.469446951953614e-17,-0.8854594023054747 Z\" fill=\"#9e2\" stroke=\"none\" stroke-width=\"0.002\" opacity=\"1\" />\n",
       "<path d=\"M-0.2144180498831212,0.41209160412038676 A1.0047256871109849,0.18212709565069388,-85.64256317530416,0,0,7.28583859910259e-17,0.8903223669854131 L-2.7755575615628914e-17,0.8257977873852902 A0.9287363304607109,0.16823745394807896,-85.64256317530416,0,1,-0.1968897507208714,0.3784038389195982 Z\" fill=\"#e1e144\" stroke=\"none\" stroke-width=\"0.002\" opacity=\"1\" />\n",
       "<path d=\"M0.9984897278368864,0.07608350264549901 A1.0008693185718753,0.9076680888751324,27.488702880068224,0,0,-3.122502256758253e-17,-0.9600653840673881 L3.469446951953614e-17,-0.8854594023054747 A0.9256878953610954,0.8393821924873945,27.48870288006816,0,1,0.9223515230673208,0.0702818793112677 Z\" fill=\"#6a1\" stroke=\"none\" stroke-width=\"0.002\" opacity=\"1\" />\n",
       "<path d=\"M-0.9636237383738696,-0.07342676364499448 A1.0041658591922331,0.3858784841887365,-0.0,0,0,-0.21441804988312105,0.4120916041203868 L-0.1968897507208716,0.3784038389195986 A0.9282941066083565,0.3565078642288141,180.0,0,1,-0.8925206711827088,-0.06800881066067938 Z\" fill=\"#56e\" stroke=\"none\" stroke-width=\"0.002\" opacity=\"1\" />\n",
       "<path d=\"M-0.21441804988312105,0.4120916041203868 A1.0041658591922331,0.3858784841887365,-0.0,0,0,0.9984897278368868,0.07608350264549904 L0.922351523067321,0.07028187931126768 A0.9282941066083565,0.3565078642288141,180.0,0,1,-0.1968897507208716,0.3784038389195986 Z\" fill=\"#239\" stroke=\"none\" stroke-width=\"0.002\" opacity=\"1\" />\n",
       "<path d=\"M-6.938893903907228e-18,-0.960065384067388 A1.0047256871109849,0.18212709565069388,-85.64256317530416,0,0,-0.2144180498831212,0.41209160412038676 L-0.1968897507208714,0.3784038389195982 A0.9287363304607109,0.16823745394807896,-85.64256317530416,0,1,4.163336342344337e-17,-0.8854594023054738 Z\" fill=\"#909022\" stroke=\"none\" stroke-width=\"0.002\" opacity=\"1\" />\n",
       "<path d=\"M-0.21441804988312108,0.4120916041203867 L-0.26244488923016085,0.5043947347483446\" stroke=\"black\" stroke-width=\"0.02\" marker-end=\"url(#299-d1)\" />\n",
       "<path d=\"M0.9984897278368864,0.076083502645499 L1.2025387183831648,0.0916317466376248\" stroke=\"black\" stroke-width=\"0.02\" marker-end=\"url(#299-d1)\" />\n",
       "<path d=\"M0.0,-0.9600653840673878 L0.0,-1.1611744708157232\" stroke=\"black\" stroke-width=\"0.02\" marker-end=\"url(#299-d1)\" />\n",
       "<text x=\"-0.39135396306187403\" y=\"0.7521460180472131\" font-size=\"0.2\" fill=\"black\" text-anchor=\"middle\"><tspan x=\"-0.39135396306187403\" dy=\"0.4em\">X</tspan></text>\n",
       "<text x=\"1.3565506460625272\" y=\"0.10336723732956847\" font-size=\"0.2\" fill=\"black\" text-anchor=\"middle\"><tspan x=\"1.3565506460625272\" dy=\"0.4em\">Y</tspan></text>\n",
       "<text x=\"0.0\" y=\"-1.3654844645413073\" font-size=\"0.2\" fill=\"black\" text-anchor=\"middle\"><tspan x=\"0.0\" dy=\"0.4em\">Z</tspan></text>\n",
       "<g opacity=\"0\">\n",
       "<path d=\"M0.0,-0.0 L0.0,-1.1409207713106644\" stroke=\"#e00\" stroke-width=\"0.04\" marker-end=\"url(#299-d2)\" />\n",
       "</g>\n",
       "</g>\n",
       "</svg>"
      ],
      "text/plain": [
       "<drawSvg.drawing.Drawing at 0x7f0090d9c1c0>"
      ]
     },
     "metadata": {},
     "output_type": "display_data"
    }
   ],
   "source": [
    "@do_or_save_animation('my_animation', save=False, fps=20, preview=True)\n",
    "# Or\n",
    "#@do_or_save_animation('my_animation', save='gif', fps=20, preview=True)\n",
    "#@do_or_save_animation('my_animation', save='mp4', fps=20, preview=False)\n",
    "def animate(state: AnimState):\n",
    "    state.x_gate()\n",
    "    state.y_gate()\n",
    "    state.z_gate()\n",
    "    state.h_gate()\n",
    "    state.s_gate()\n",
    "    ...\n",
    "    state.wait()  # Pause at the end\n",
    "    "
   ]
  },
  {
   "cell_type": "code",
   "execution_count": null,
   "id": "be2ab09f-58fe-48ae-baf2-f38f7b0ec146",
   "metadata": {},
   "outputs": [],
   "source": []
  }
 ],
 "metadata": {
  "kernelspec": {
   "display_name": "Python 3",
   "language": "python",
   "name": "python3"
  },
  "language_info": {
   "codemirror_mode": {
    "name": "ipython",
    "version": 3
   },
   "file_extension": ".py",
   "mimetype": "text/x-python",
   "name": "python",
   "nbconvert_exporter": "python",
   "pygments_lexer": "ipython3",
   "version": "3.8.5"
  }
 },
 "nbformat": 4,
 "nbformat_minor": 5
}
